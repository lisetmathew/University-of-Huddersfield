{
 "cells": [
  {
   "cell_type": "markdown",
   "id": "51b5a7ee",
   "metadata": {},
   "source": [
    "### Importing libraries"
   ]
  },
  {
   "cell_type": "code",
   "execution_count": 1,
   "id": "4425ed73",
   "metadata": {},
   "outputs": [],
   "source": [
    "import warnings\n",
    "warnings.filterwarnings(\"ignore\")\n",
    "import pandas as pd\n",
    "import numpy as np\n",
    "import matplotlib.pyplot as plt\n",
    "import seaborn as sns"
   ]
  },
  {
   "cell_type": "markdown",
   "id": "b2e4b1f5",
   "metadata": {},
   "source": [
    "### Reading the dataset"
   ]
  },
  {
   "cell_type": "code",
   "execution_count": 2,
   "id": "bec34f6f",
   "metadata": {},
   "outputs": [
    {
     "data": {
      "text/html": [
       "<div>\n",
       "<style scoped>\n",
       "    .dataframe tbody tr th:only-of-type {\n",
       "        vertical-align: middle;\n",
       "    }\n",
       "\n",
       "    .dataframe tbody tr th {\n",
       "        vertical-align: top;\n",
       "    }\n",
       "\n",
       "    .dataframe thead th {\n",
       "        text-align: right;\n",
       "    }\n",
       "</style>\n",
       "<table border=\"1\" class=\"dataframe\">\n",
       "  <thead>\n",
       "    <tr style=\"text-align: right;\">\n",
       "      <th></th>\n",
       "      <th>Unnamed: 0</th>\n",
       "      <th>asin</th>\n",
       "      <th>helpful</th>\n",
       "      <th>overall</th>\n",
       "      <th>reviewText</th>\n",
       "      <th>reviewTime</th>\n",
       "      <th>reviewerID</th>\n",
       "      <th>reviewerName</th>\n",
       "      <th>summary</th>\n",
       "      <th>unixReviewTime</th>\n",
       "    </tr>\n",
       "  </thead>\n",
       "  <tbody>\n",
       "    <tr>\n",
       "      <th>0</th>\n",
       "      <td>0</td>\n",
       "      <td>B000F83SZQ</td>\n",
       "      <td>[0, 0]</td>\n",
       "      <td>5</td>\n",
       "      <td>I enjoy vintage books and movies so I enjoyed ...</td>\n",
       "      <td>05 5, 2014</td>\n",
       "      <td>A1F6404F1VG29J</td>\n",
       "      <td>Avidreader</td>\n",
       "      <td>Nice vintage story</td>\n",
       "      <td>1399248000</td>\n",
       "    </tr>\n",
       "    <tr>\n",
       "      <th>1</th>\n",
       "      <td>1</td>\n",
       "      <td>B000F83SZQ</td>\n",
       "      <td>[2, 2]</td>\n",
       "      <td>4</td>\n",
       "      <td>This book is a reissue of an old one; the auth...</td>\n",
       "      <td>01 6, 2014</td>\n",
       "      <td>AN0N05A9LIJEQ</td>\n",
       "      <td>critters</td>\n",
       "      <td>Different...</td>\n",
       "      <td>1388966400</td>\n",
       "    </tr>\n",
       "    <tr>\n",
       "      <th>2</th>\n",
       "      <td>2</td>\n",
       "      <td>B000F83SZQ</td>\n",
       "      <td>[2, 2]</td>\n",
       "      <td>4</td>\n",
       "      <td>This was a fairly interesting read.  It had ol...</td>\n",
       "      <td>04 4, 2014</td>\n",
       "      <td>A795DMNCJILA6</td>\n",
       "      <td>dot</td>\n",
       "      <td>Oldie</td>\n",
       "      <td>1396569600</td>\n",
       "    </tr>\n",
       "    <tr>\n",
       "      <th>3</th>\n",
       "      <td>3</td>\n",
       "      <td>B000F83SZQ</td>\n",
       "      <td>[1, 1]</td>\n",
       "      <td>5</td>\n",
       "      <td>I'd never read any of the Amy Brewster mysteri...</td>\n",
       "      <td>02 19, 2014</td>\n",
       "      <td>A1FV0SX13TWVXQ</td>\n",
       "      <td>Elaine H. Turley \"Montana Songbird\"</td>\n",
       "      <td>I really liked it.</td>\n",
       "      <td>1392768000</td>\n",
       "    </tr>\n",
       "    <tr>\n",
       "      <th>4</th>\n",
       "      <td>4</td>\n",
       "      <td>B000F83SZQ</td>\n",
       "      <td>[0, 1]</td>\n",
       "      <td>4</td>\n",
       "      <td>If you like period pieces - clothing, lingo, y...</td>\n",
       "      <td>03 19, 2014</td>\n",
       "      <td>A3SPTOKDG7WBLN</td>\n",
       "      <td>Father Dowling Fan</td>\n",
       "      <td>Period Mystery</td>\n",
       "      <td>1395187200</td>\n",
       "    </tr>\n",
       "    <tr>\n",
       "      <th>...</th>\n",
       "      <td>...</td>\n",
       "      <td>...</td>\n",
       "      <td>...</td>\n",
       "      <td>...</td>\n",
       "      <td>...</td>\n",
       "      <td>...</td>\n",
       "      <td>...</td>\n",
       "      <td>...</td>\n",
       "      <td>...</td>\n",
       "      <td>...</td>\n",
       "    </tr>\n",
       "    <tr>\n",
       "      <th>982614</th>\n",
       "      <td>982614</td>\n",
       "      <td>B00M13FNSS</td>\n",
       "      <td>[2, 2]</td>\n",
       "      <td>5</td>\n",
       "      <td>Yasss hunny! This is a great read. That Dre is...</td>\n",
       "      <td>07 23, 2014</td>\n",
       "      <td>A2Y66HD4J5S7QZ</td>\n",
       "      <td>Candi</td>\n",
       "      <td>A Hot Read Indeed!!</td>\n",
       "      <td>1406073600</td>\n",
       "    </tr>\n",
       "    <tr>\n",
       "      <th>982615</th>\n",
       "      <td>982615</td>\n",
       "      <td>B00M13FNSS</td>\n",
       "      <td>[0, 0]</td>\n",
       "      <td>5</td>\n",
       "      <td>I ENJOYED THIS BOOK FROM BEGINNING TO END NOW ...</td>\n",
       "      <td>07 23, 2014</td>\n",
       "      <td>A17YHECC8H9NEY</td>\n",
       "      <td>Margie</td>\n",
       "      <td>VERY GOOD BOOK</td>\n",
       "      <td>1406073600</td>\n",
       "    </tr>\n",
       "    <tr>\n",
       "      <th>982616</th>\n",
       "      <td>982616</td>\n",
       "      <td>B00M13FNSS</td>\n",
       "      <td>[1, 1]</td>\n",
       "      <td>5</td>\n",
       "      <td>Great book! Cherika was a fool. She let that m...</td>\n",
       "      <td>07 23, 2014</td>\n",
       "      <td>A20KO0BPMNREJL</td>\n",
       "      <td>Nicki</td>\n",
       "      <td>Great Read</td>\n",
       "      <td>1406073600</td>\n",
       "    </tr>\n",
       "    <tr>\n",
       "      <th>982617</th>\n",
       "      <td>982617</td>\n",
       "      <td>B00M13FNSS</td>\n",
       "      <td>[0, 0]</td>\n",
       "      <td>5</td>\n",
       "      <td>When I say this was an excellent book please b...</td>\n",
       "      <td>07 23, 2014</td>\n",
       "      <td>A1BQO66R6OLCCW</td>\n",
       "      <td>Nikey</td>\n",
       "      <td>Wow!!</td>\n",
       "      <td>1406073600</td>\n",
       "    </tr>\n",
       "    <tr>\n",
       "      <th>982618</th>\n",
       "      <td>982618</td>\n",
       "      <td>B00M13FNSS</td>\n",
       "      <td>[2, 2]</td>\n",
       "      <td>5</td>\n",
       "      <td>This book was everything. I just hope Alexus w...</td>\n",
       "      <td>07 23, 2014</td>\n",
       "      <td>A2NRGE3CSFY2TQ</td>\n",
       "      <td>Yo</td>\n",
       "      <td>Great read.hands down #5star hit</td>\n",
       "      <td>1406073600</td>\n",
       "    </tr>\n",
       "  </tbody>\n",
       "</table>\n",
       "<p>982619 rows × 10 columns</p>\n",
       "</div>"
      ],
      "text/plain": [
       "        Unnamed: 0        asin helpful  overall  \\\n",
       "0                0  B000F83SZQ  [0, 0]        5   \n",
       "1                1  B000F83SZQ  [2, 2]        4   \n",
       "2                2  B000F83SZQ  [2, 2]        4   \n",
       "3                3  B000F83SZQ  [1, 1]        5   \n",
       "4                4  B000F83SZQ  [0, 1]        4   \n",
       "...            ...         ...     ...      ...   \n",
       "982614      982614  B00M13FNSS  [2, 2]        5   \n",
       "982615      982615  B00M13FNSS  [0, 0]        5   \n",
       "982616      982616  B00M13FNSS  [1, 1]        5   \n",
       "982617      982617  B00M13FNSS  [0, 0]        5   \n",
       "982618      982618  B00M13FNSS  [2, 2]        5   \n",
       "\n",
       "                                               reviewText   reviewTime  \\\n",
       "0       I enjoy vintage books and movies so I enjoyed ...   05 5, 2014   \n",
       "1       This book is a reissue of an old one; the auth...   01 6, 2014   \n",
       "2       This was a fairly interesting read.  It had ol...   04 4, 2014   \n",
       "3       I'd never read any of the Amy Brewster mysteri...  02 19, 2014   \n",
       "4       If you like period pieces - clothing, lingo, y...  03 19, 2014   \n",
       "...                                                   ...          ...   \n",
       "982614  Yasss hunny! This is a great read. That Dre is...  07 23, 2014   \n",
       "982615  I ENJOYED THIS BOOK FROM BEGINNING TO END NOW ...  07 23, 2014   \n",
       "982616  Great book! Cherika was a fool. She let that m...  07 23, 2014   \n",
       "982617  When I say this was an excellent book please b...  07 23, 2014   \n",
       "982618  This book was everything. I just hope Alexus w...  07 23, 2014   \n",
       "\n",
       "            reviewerID                         reviewerName  \\\n",
       "0       A1F6404F1VG29J                           Avidreader   \n",
       "1        AN0N05A9LIJEQ                             critters   \n",
       "2        A795DMNCJILA6                                  dot   \n",
       "3       A1FV0SX13TWVXQ  Elaine H. Turley \"Montana Songbird\"   \n",
       "4       A3SPTOKDG7WBLN                   Father Dowling Fan   \n",
       "...                ...                                  ...   \n",
       "982614  A2Y66HD4J5S7QZ                                Candi   \n",
       "982615  A17YHECC8H9NEY                               Margie   \n",
       "982616  A20KO0BPMNREJL                                Nicki   \n",
       "982617  A1BQO66R6OLCCW                                Nikey   \n",
       "982618  A2NRGE3CSFY2TQ                                   Yo   \n",
       "\n",
       "                                 summary  unixReviewTime  \n",
       "0                     Nice vintage story      1399248000  \n",
       "1                           Different...      1388966400  \n",
       "2                                  Oldie      1396569600  \n",
       "3                     I really liked it.      1392768000  \n",
       "4                         Period Mystery      1395187200  \n",
       "...                                  ...             ...  \n",
       "982614               A Hot Read Indeed!!      1406073600  \n",
       "982615                    VERY GOOD BOOK      1406073600  \n",
       "982616                        Great Read      1406073600  \n",
       "982617                             Wow!!      1406073600  \n",
       "982618  Great read.hands down #5star hit      1406073600  \n",
       "\n",
       "[982619 rows x 10 columns]"
      ]
     },
     "execution_count": 2,
     "metadata": {},
     "output_type": "execute_result"
    }
   ],
   "source": [
    "data=pd.read_csv('kindle_reviews.csv')\n",
    "data"
   ]
  },
  {
   "cell_type": "markdown",
   "id": "b0c99a4a",
   "metadata": {},
   "source": [
    "### Checking the shape, columns of the dataset"
   ]
  },
  {
   "cell_type": "code",
   "execution_count": 3,
   "id": "a1d1c1fa",
   "metadata": {},
   "outputs": [
    {
     "data": {
      "text/plain": [
       "(982619, 10)"
      ]
     },
     "execution_count": 3,
     "metadata": {},
     "output_type": "execute_result"
    }
   ],
   "source": [
    "data.shape"
   ]
  },
  {
   "cell_type": "code",
   "execution_count": 4,
   "id": "438e1731",
   "metadata": {},
   "outputs": [
    {
     "data": {
      "text/plain": [
       "Index(['Unnamed: 0', 'asin', 'helpful', 'overall', 'reviewText', 'reviewTime',\n",
       "       'reviewerID', 'reviewerName', 'summary', 'unixReviewTime'],\n",
       "      dtype='object')"
      ]
     },
     "execution_count": 4,
     "metadata": {},
     "output_type": "execute_result"
    }
   ],
   "source": [
    "data.columns"
   ]
  },
  {
   "cell_type": "markdown",
   "id": "475e1ea1",
   "metadata": {},
   "source": [
    "### Checking the information of the dataset"
   ]
  },
  {
   "cell_type": "code",
   "execution_count": 5,
   "id": "b4b6cb28",
   "metadata": {},
   "outputs": [
    {
     "name": "stdout",
     "output_type": "stream",
     "text": [
      "<class 'pandas.core.frame.DataFrame'>\n",
      "RangeIndex: 982619 entries, 0 to 982618\n",
      "Data columns (total 10 columns):\n",
      " #   Column          Non-Null Count   Dtype \n",
      "---  ------          --------------   ----- \n",
      " 0   Unnamed: 0      982619 non-null  int64 \n",
      " 1   asin            982619 non-null  object\n",
      " 2   helpful         982619 non-null  object\n",
      " 3   overall         982619 non-null  int64 \n",
      " 4   reviewText      982597 non-null  object\n",
      " 5   reviewTime      982619 non-null  object\n",
      " 6   reviewerID      982619 non-null  object\n",
      " 7   reviewerName    978803 non-null  object\n",
      " 8   summary         982618 non-null  object\n",
      " 9   unixReviewTime  982619 non-null  int64 \n",
      "dtypes: int64(3), object(7)\n",
      "memory usage: 75.0+ MB\n"
     ]
    }
   ],
   "source": [
    "data.info()"
   ]
  },
  {
   "cell_type": "markdown",
   "id": "e075e387",
   "metadata": {},
   "source": [
    "### Checking the missing value and clearing it"
   ]
  },
  {
   "cell_type": "code",
   "execution_count": 6,
   "id": "a907ec1b",
   "metadata": {},
   "outputs": [
    {
     "data": {
      "text/plain": [
       "Unnamed: 0           0\n",
       "asin                 0\n",
       "helpful              0\n",
       "overall              0\n",
       "reviewText          22\n",
       "reviewTime           0\n",
       "reviewerID           0\n",
       "reviewerName      3816\n",
       "summary              1\n",
       "unixReviewTime       0\n",
       "dtype: int64"
      ]
     },
     "execution_count": 6,
     "metadata": {},
     "output_type": "execute_result"
    }
   ],
   "source": [
    "data.isna().sum()"
   ]
  },
  {
   "cell_type": "code",
   "execution_count": 7,
   "id": "3f4386ff",
   "metadata": {},
   "outputs": [
    {
     "data": {
      "text/plain": [
       "Unnamed: 0        0\n",
       "asin              0\n",
       "helpful           0\n",
       "overall           0\n",
       "reviewText        0\n",
       "reviewTime        0\n",
       "reviewerID        0\n",
       "reviewerName      0\n",
       "summary           0\n",
       "unixReviewTime    0\n",
       "dtype: int64"
      ]
     },
     "execution_count": 7,
     "metadata": {},
     "output_type": "execute_result"
    }
   ],
   "source": [
    "data.dropna(axis=0, inplace=True)\n",
    "data.isna().sum()"
   ]
  },
  {
   "cell_type": "code",
   "execution_count": 8,
   "id": "d8feaa4e",
   "metadata": {},
   "outputs": [
    {
     "data": {
      "text/plain": [
       "(978780, 10)"
      ]
     },
     "execution_count": 8,
     "metadata": {},
     "output_type": "execute_result"
    }
   ],
   "source": [
    "data.shape"
   ]
  },
  {
   "cell_type": "markdown",
   "id": "a7bc4c63",
   "metadata": {},
   "source": [
    "### Descriptive analysis"
   ]
  },
  {
   "cell_type": "code",
   "execution_count": 9,
   "id": "37735366",
   "metadata": {},
   "outputs": [
    {
     "data": {
      "text/html": [
       "<div>\n",
       "<style scoped>\n",
       "    .dataframe tbody tr th:only-of-type {\n",
       "        vertical-align: middle;\n",
       "    }\n",
       "\n",
       "    .dataframe tbody tr th {\n",
       "        vertical-align: top;\n",
       "    }\n",
       "\n",
       "    .dataframe thead th {\n",
       "        text-align: right;\n",
       "    }\n",
       "</style>\n",
       "<table border=\"1\" class=\"dataframe\">\n",
       "  <thead>\n",
       "    <tr style=\"text-align: right;\">\n",
       "      <th></th>\n",
       "      <th>Unnamed: 0</th>\n",
       "      <th>overall</th>\n",
       "      <th>unixReviewTime</th>\n",
       "    </tr>\n",
       "  </thead>\n",
       "  <tbody>\n",
       "    <tr>\n",
       "      <th>count</th>\n",
       "      <td>978780.000000</td>\n",
       "      <td>978780.000000</td>\n",
       "      <td>9.787800e+05</td>\n",
       "    </tr>\n",
       "    <tr>\n",
       "      <th>mean</th>\n",
       "      <td>491931.851952</td>\n",
       "      <td>4.348587</td>\n",
       "      <td>1.378195e+09</td>\n",
       "    </tr>\n",
       "    <tr>\n",
       "      <th>std</th>\n",
       "      <td>283561.851400</td>\n",
       "      <td>0.954144</td>\n",
       "      <td>2.298750e+07</td>\n",
       "    </tr>\n",
       "    <tr>\n",
       "      <th>min</th>\n",
       "      <td>0.000000</td>\n",
       "      <td>1.000000</td>\n",
       "      <td>9.522144e+08</td>\n",
       "    </tr>\n",
       "    <tr>\n",
       "      <th>25%</th>\n",
       "      <td>246708.750000</td>\n",
       "      <td>4.000000</td>\n",
       "      <td>1.365206e+09</td>\n",
       "    </tr>\n",
       "    <tr>\n",
       "      <th>50%</th>\n",
       "      <td>492355.500000</td>\n",
       "      <td>5.000000</td>\n",
       "      <td>1.383523e+09</td>\n",
       "    </tr>\n",
       "    <tr>\n",
       "      <th>75%</th>\n",
       "      <td>737268.250000</td>\n",
       "      <td>5.000000</td>\n",
       "      <td>1.396138e+09</td>\n",
       "    </tr>\n",
       "    <tr>\n",
       "      <th>max</th>\n",
       "      <td>982618.000000</td>\n",
       "      <td>5.000000</td>\n",
       "      <td>1.406074e+09</td>\n",
       "    </tr>\n",
       "  </tbody>\n",
       "</table>\n",
       "</div>"
      ],
      "text/plain": [
       "          Unnamed: 0        overall  unixReviewTime\n",
       "count  978780.000000  978780.000000    9.787800e+05\n",
       "mean   491931.851952       4.348587    1.378195e+09\n",
       "std    283561.851400       0.954144    2.298750e+07\n",
       "min         0.000000       1.000000    9.522144e+08\n",
       "25%    246708.750000       4.000000    1.365206e+09\n",
       "50%    492355.500000       5.000000    1.383523e+09\n",
       "75%    737268.250000       5.000000    1.396138e+09\n",
       "max    982618.000000       5.000000    1.406074e+09"
      ]
     },
     "execution_count": 9,
     "metadata": {},
     "output_type": "execute_result"
    }
   ],
   "source": [
    "data.describe()"
   ]
  },
  {
   "cell_type": "code",
   "execution_count": 10,
   "id": "0507d229",
   "metadata": {},
   "outputs": [
    {
     "data": {
      "text/html": [
       "<div>\n",
       "<style scoped>\n",
       "    .dataframe tbody tr th:only-of-type {\n",
       "        vertical-align: middle;\n",
       "    }\n",
       "\n",
       "    .dataframe tbody tr th {\n",
       "        vertical-align: top;\n",
       "    }\n",
       "\n",
       "    .dataframe thead th {\n",
       "        text-align: right;\n",
       "    }\n",
       "</style>\n",
       "<table border=\"1\" class=\"dataframe\">\n",
       "  <thead>\n",
       "    <tr style=\"text-align: right;\">\n",
       "      <th></th>\n",
       "      <th>Unnamed: 0</th>\n",
       "      <th>overall</th>\n",
       "      <th>unixReviewTime</th>\n",
       "    </tr>\n",
       "  </thead>\n",
       "  <tbody>\n",
       "    <tr>\n",
       "      <th>Unnamed: 0</th>\n",
       "      <td>1.000000</td>\n",
       "      <td>0.140039</td>\n",
       "      <td>0.686957</td>\n",
       "    </tr>\n",
       "    <tr>\n",
       "      <th>overall</th>\n",
       "      <td>0.140039</td>\n",
       "      <td>1.000000</td>\n",
       "      <td>0.063844</td>\n",
       "    </tr>\n",
       "    <tr>\n",
       "      <th>unixReviewTime</th>\n",
       "      <td>0.686957</td>\n",
       "      <td>0.063844</td>\n",
       "      <td>1.000000</td>\n",
       "    </tr>\n",
       "  </tbody>\n",
       "</table>\n",
       "</div>"
      ],
      "text/plain": [
       "                Unnamed: 0   overall  unixReviewTime\n",
       "Unnamed: 0        1.000000  0.140039        0.686957\n",
       "overall           0.140039  1.000000        0.063844\n",
       "unixReviewTime    0.686957  0.063844        1.000000"
      ]
     },
     "execution_count": 10,
     "metadata": {},
     "output_type": "execute_result"
    }
   ],
   "source": [
    "data.corr()"
   ]
  },
  {
   "cell_type": "markdown",
   "id": "2891b6d1",
   "metadata": {},
   "source": [
    "### Renaming the columns and removing the unwanted columns"
   ]
  },
  {
   "cell_type": "code",
   "execution_count": 11,
   "id": "a559a5b6",
   "metadata": {},
   "outputs": [
    {
     "data": {
      "text/html": [
       "<div>\n",
       "<style scoped>\n",
       "    .dataframe tbody tr th:only-of-type {\n",
       "        vertical-align: middle;\n",
       "    }\n",
       "\n",
       "    .dataframe tbody tr th {\n",
       "        vertical-align: top;\n",
       "    }\n",
       "\n",
       "    .dataframe thead th {\n",
       "        text-align: right;\n",
       "    }\n",
       "</style>\n",
       "<table border=\"1\" class=\"dataframe\">\n",
       "  <thead>\n",
       "    <tr style=\"text-align: right;\">\n",
       "      <th></th>\n",
       "      <th>Unnamed: 0</th>\n",
       "      <th>ProductId</th>\n",
       "      <th>helpful</th>\n",
       "      <th>Score</th>\n",
       "      <th>Text</th>\n",
       "      <th>Reviewdate</th>\n",
       "      <th>UserId</th>\n",
       "      <th>reviewerName</th>\n",
       "      <th>Summary</th>\n",
       "      <th>Reviewtime</th>\n",
       "    </tr>\n",
       "  </thead>\n",
       "  <tbody>\n",
       "    <tr>\n",
       "      <th>0</th>\n",
       "      <td>0</td>\n",
       "      <td>B000F83SZQ</td>\n",
       "      <td>[0, 0]</td>\n",
       "      <td>5</td>\n",
       "      <td>I enjoy vintage books and movies so I enjoyed ...</td>\n",
       "      <td>05 5, 2014</td>\n",
       "      <td>A1F6404F1VG29J</td>\n",
       "      <td>Avidreader</td>\n",
       "      <td>Nice vintage story</td>\n",
       "      <td>1399248000</td>\n",
       "    </tr>\n",
       "    <tr>\n",
       "      <th>1</th>\n",
       "      <td>1</td>\n",
       "      <td>B000F83SZQ</td>\n",
       "      <td>[2, 2]</td>\n",
       "      <td>4</td>\n",
       "      <td>This book is a reissue of an old one; the auth...</td>\n",
       "      <td>01 6, 2014</td>\n",
       "      <td>AN0N05A9LIJEQ</td>\n",
       "      <td>critters</td>\n",
       "      <td>Different...</td>\n",
       "      <td>1388966400</td>\n",
       "    </tr>\n",
       "    <tr>\n",
       "      <th>2</th>\n",
       "      <td>2</td>\n",
       "      <td>B000F83SZQ</td>\n",
       "      <td>[2, 2]</td>\n",
       "      <td>4</td>\n",
       "      <td>This was a fairly interesting read.  It had ol...</td>\n",
       "      <td>04 4, 2014</td>\n",
       "      <td>A795DMNCJILA6</td>\n",
       "      <td>dot</td>\n",
       "      <td>Oldie</td>\n",
       "      <td>1396569600</td>\n",
       "    </tr>\n",
       "    <tr>\n",
       "      <th>3</th>\n",
       "      <td>3</td>\n",
       "      <td>B000F83SZQ</td>\n",
       "      <td>[1, 1]</td>\n",
       "      <td>5</td>\n",
       "      <td>I'd never read any of the Amy Brewster mysteri...</td>\n",
       "      <td>02 19, 2014</td>\n",
       "      <td>A1FV0SX13TWVXQ</td>\n",
       "      <td>Elaine H. Turley \"Montana Songbird\"</td>\n",
       "      <td>I really liked it.</td>\n",
       "      <td>1392768000</td>\n",
       "    </tr>\n",
       "    <tr>\n",
       "      <th>4</th>\n",
       "      <td>4</td>\n",
       "      <td>B000F83SZQ</td>\n",
       "      <td>[0, 1]</td>\n",
       "      <td>4</td>\n",
       "      <td>If you like period pieces - clothing, lingo, y...</td>\n",
       "      <td>03 19, 2014</td>\n",
       "      <td>A3SPTOKDG7WBLN</td>\n",
       "      <td>Father Dowling Fan</td>\n",
       "      <td>Period Mystery</td>\n",
       "      <td>1395187200</td>\n",
       "    </tr>\n",
       "  </tbody>\n",
       "</table>\n",
       "</div>"
      ],
      "text/plain": [
       "   Unnamed: 0   ProductId helpful  Score  \\\n",
       "0           0  B000F83SZQ  [0, 0]      5   \n",
       "1           1  B000F83SZQ  [2, 2]      4   \n",
       "2           2  B000F83SZQ  [2, 2]      4   \n",
       "3           3  B000F83SZQ  [1, 1]      5   \n",
       "4           4  B000F83SZQ  [0, 1]      4   \n",
       "\n",
       "                                                Text   Reviewdate  \\\n",
       "0  I enjoy vintage books and movies so I enjoyed ...   05 5, 2014   \n",
       "1  This book is a reissue of an old one; the auth...   01 6, 2014   \n",
       "2  This was a fairly interesting read.  It had ol...   04 4, 2014   \n",
       "3  I'd never read any of the Amy Brewster mysteri...  02 19, 2014   \n",
       "4  If you like period pieces - clothing, lingo, y...  03 19, 2014   \n",
       "\n",
       "           UserId                         reviewerName             Summary  \\\n",
       "0  A1F6404F1VG29J                           Avidreader  Nice vintage story   \n",
       "1   AN0N05A9LIJEQ                             critters        Different...   \n",
       "2   A795DMNCJILA6                                  dot               Oldie   \n",
       "3  A1FV0SX13TWVXQ  Elaine H. Turley \"Montana Songbird\"  I really liked it.   \n",
       "4  A3SPTOKDG7WBLN                   Father Dowling Fan      Period Mystery   \n",
       "\n",
       "   Reviewtime  \n",
       "0  1399248000  \n",
       "1  1388966400  \n",
       "2  1396569600  \n",
       "3  1392768000  \n",
       "4  1395187200  "
      ]
     },
     "execution_count": 11,
     "metadata": {},
     "output_type": "execute_result"
    }
   ],
   "source": [
    "data.rename(columns={'asin':'ProductId', 'overall':'Score', 'reviewText':'Text','reviewTime':'Reviewdate', 'reviewerID':'UserId',\n",
    "                     'summary':'Summary', 'unixReviewTime':'Reviewtime'}, inplace=True)\n",
    "data.head()"
   ]
  },
  {
   "cell_type": "code",
   "execution_count": 12,
   "id": "af5c3e1d",
   "metadata": {},
   "outputs": [],
   "source": [
    "review_data=data.drop(['Unnamed: 0','helpful','Reviewdate','reviewerName'],axis=1)"
   ]
  },
  {
   "cell_type": "code",
   "execution_count": 13,
   "id": "2843bd1d",
   "metadata": {},
   "outputs": [
    {
     "data": {
      "text/html": [
       "<div>\n",
       "<style scoped>\n",
       "    .dataframe tbody tr th:only-of-type {\n",
       "        vertical-align: middle;\n",
       "    }\n",
       "\n",
       "    .dataframe tbody tr th {\n",
       "        vertical-align: top;\n",
       "    }\n",
       "\n",
       "    .dataframe thead th {\n",
       "        text-align: right;\n",
       "    }\n",
       "</style>\n",
       "<table border=\"1\" class=\"dataframe\">\n",
       "  <thead>\n",
       "    <tr style=\"text-align: right;\">\n",
       "      <th></th>\n",
       "      <th>ProductId</th>\n",
       "      <th>Score</th>\n",
       "      <th>Text</th>\n",
       "      <th>UserId</th>\n",
       "      <th>Summary</th>\n",
       "      <th>Reviewtime</th>\n",
       "    </tr>\n",
       "  </thead>\n",
       "  <tbody>\n",
       "    <tr>\n",
       "      <th>0</th>\n",
       "      <td>B000F83SZQ</td>\n",
       "      <td>5</td>\n",
       "      <td>I enjoy vintage books and movies so I enjoyed ...</td>\n",
       "      <td>A1F6404F1VG29J</td>\n",
       "      <td>Nice vintage story</td>\n",
       "      <td>1399248000</td>\n",
       "    </tr>\n",
       "    <tr>\n",
       "      <th>1</th>\n",
       "      <td>B000F83SZQ</td>\n",
       "      <td>4</td>\n",
       "      <td>This book is a reissue of an old one; the auth...</td>\n",
       "      <td>AN0N05A9LIJEQ</td>\n",
       "      <td>Different...</td>\n",
       "      <td>1388966400</td>\n",
       "    </tr>\n",
       "    <tr>\n",
       "      <th>2</th>\n",
       "      <td>B000F83SZQ</td>\n",
       "      <td>4</td>\n",
       "      <td>This was a fairly interesting read.  It had ol...</td>\n",
       "      <td>A795DMNCJILA6</td>\n",
       "      <td>Oldie</td>\n",
       "      <td>1396569600</td>\n",
       "    </tr>\n",
       "    <tr>\n",
       "      <th>3</th>\n",
       "      <td>B000F83SZQ</td>\n",
       "      <td>5</td>\n",
       "      <td>I'd never read any of the Amy Brewster mysteri...</td>\n",
       "      <td>A1FV0SX13TWVXQ</td>\n",
       "      <td>I really liked it.</td>\n",
       "      <td>1392768000</td>\n",
       "    </tr>\n",
       "    <tr>\n",
       "      <th>4</th>\n",
       "      <td>B000F83SZQ</td>\n",
       "      <td>4</td>\n",
       "      <td>If you like period pieces - clothing, lingo, y...</td>\n",
       "      <td>A3SPTOKDG7WBLN</td>\n",
       "      <td>Period Mystery</td>\n",
       "      <td>1395187200</td>\n",
       "    </tr>\n",
       "  </tbody>\n",
       "</table>\n",
       "</div>"
      ],
      "text/plain": [
       "    ProductId  Score                                               Text  \\\n",
       "0  B000F83SZQ      5  I enjoy vintage books and movies so I enjoyed ...   \n",
       "1  B000F83SZQ      4  This book is a reissue of an old one; the auth...   \n",
       "2  B000F83SZQ      4  This was a fairly interesting read.  It had ol...   \n",
       "3  B000F83SZQ      5  I'd never read any of the Amy Brewster mysteri...   \n",
       "4  B000F83SZQ      4  If you like period pieces - clothing, lingo, y...   \n",
       "\n",
       "           UserId             Summary  Reviewtime  \n",
       "0  A1F6404F1VG29J  Nice vintage story  1399248000  \n",
       "1   AN0N05A9LIJEQ        Different...  1388966400  \n",
       "2   A795DMNCJILA6               Oldie  1396569600  \n",
       "3  A1FV0SX13TWVXQ  I really liked it.  1392768000  \n",
       "4  A3SPTOKDG7WBLN      Period Mystery  1395187200  "
      ]
     },
     "execution_count": 13,
     "metadata": {},
     "output_type": "execute_result"
    }
   ],
   "source": [
    "review_data.head()"
   ]
  },
  {
   "cell_type": "code",
   "execution_count": 14,
   "id": "a75be933",
   "metadata": {},
   "outputs": [
    {
     "data": {
      "text/html": [
       "<div>\n",
       "<style scoped>\n",
       "    .dataframe tbody tr th:only-of-type {\n",
       "        vertical-align: middle;\n",
       "    }\n",
       "\n",
       "    .dataframe tbody tr th {\n",
       "        vertical-align: top;\n",
       "    }\n",
       "\n",
       "    .dataframe thead th {\n",
       "        text-align: right;\n",
       "    }\n",
       "</style>\n",
       "<table border=\"1\" class=\"dataframe\">\n",
       "  <thead>\n",
       "    <tr style=\"text-align: right;\">\n",
       "      <th></th>\n",
       "      <th>Score</th>\n",
       "      <th>Reviewtime</th>\n",
       "    </tr>\n",
       "  </thead>\n",
       "  <tbody>\n",
       "    <tr>\n",
       "      <th>count</th>\n",
       "      <td>978780.000000</td>\n",
       "      <td>9.787800e+05</td>\n",
       "    </tr>\n",
       "    <tr>\n",
       "      <th>mean</th>\n",
       "      <td>4.348587</td>\n",
       "      <td>1.378195e+09</td>\n",
       "    </tr>\n",
       "    <tr>\n",
       "      <th>std</th>\n",
       "      <td>0.954144</td>\n",
       "      <td>2.298750e+07</td>\n",
       "    </tr>\n",
       "    <tr>\n",
       "      <th>min</th>\n",
       "      <td>1.000000</td>\n",
       "      <td>9.522144e+08</td>\n",
       "    </tr>\n",
       "    <tr>\n",
       "      <th>25%</th>\n",
       "      <td>4.000000</td>\n",
       "      <td>1.365206e+09</td>\n",
       "    </tr>\n",
       "    <tr>\n",
       "      <th>50%</th>\n",
       "      <td>5.000000</td>\n",
       "      <td>1.383523e+09</td>\n",
       "    </tr>\n",
       "    <tr>\n",
       "      <th>75%</th>\n",
       "      <td>5.000000</td>\n",
       "      <td>1.396138e+09</td>\n",
       "    </tr>\n",
       "    <tr>\n",
       "      <th>max</th>\n",
       "      <td>5.000000</td>\n",
       "      <td>1.406074e+09</td>\n",
       "    </tr>\n",
       "  </tbody>\n",
       "</table>\n",
       "</div>"
      ],
      "text/plain": [
       "               Score    Reviewtime\n",
       "count  978780.000000  9.787800e+05\n",
       "mean        4.348587  1.378195e+09\n",
       "std         0.954144  2.298750e+07\n",
       "min         1.000000  9.522144e+08\n",
       "25%         4.000000  1.365206e+09\n",
       "50%         5.000000  1.383523e+09\n",
       "75%         5.000000  1.396138e+09\n",
       "max         5.000000  1.406074e+09"
      ]
     },
     "execution_count": 14,
     "metadata": {},
     "output_type": "execute_result"
    }
   ],
   "source": [
    "review_data.describe()"
   ]
  },
  {
   "cell_type": "code",
   "execution_count": 15,
   "id": "49d80a86",
   "metadata": {},
   "outputs": [
    {
     "data": {
      "text/html": [
       "<div>\n",
       "<style scoped>\n",
       "    .dataframe tbody tr th:only-of-type {\n",
       "        vertical-align: middle;\n",
       "    }\n",
       "\n",
       "    .dataframe tbody tr th {\n",
       "        vertical-align: top;\n",
       "    }\n",
       "\n",
       "    .dataframe thead th {\n",
       "        text-align: right;\n",
       "    }\n",
       "</style>\n",
       "<table border=\"1\" class=\"dataframe\">\n",
       "  <thead>\n",
       "    <tr style=\"text-align: right;\">\n",
       "      <th></th>\n",
       "      <th>Score</th>\n",
       "      <th>Reviewtime</th>\n",
       "    </tr>\n",
       "  </thead>\n",
       "  <tbody>\n",
       "    <tr>\n",
       "      <th>Score</th>\n",
       "      <td>1.000000</td>\n",
       "      <td>0.063844</td>\n",
       "    </tr>\n",
       "    <tr>\n",
       "      <th>Reviewtime</th>\n",
       "      <td>0.063844</td>\n",
       "      <td>1.000000</td>\n",
       "    </tr>\n",
       "  </tbody>\n",
       "</table>\n",
       "</div>"
      ],
      "text/plain": [
       "               Score  Reviewtime\n",
       "Score       1.000000    0.063844\n",
       "Reviewtime  0.063844    1.000000"
      ]
     },
     "execution_count": 15,
     "metadata": {},
     "output_type": "execute_result"
    }
   ],
   "source": [
    "review_data.corr()"
   ]
  },
  {
   "cell_type": "markdown",
   "id": "953ec30a",
   "metadata": {},
   "source": [
    "### Plotting the graph"
   ]
  },
  {
   "cell_type": "code",
   "execution_count": 16,
   "id": "dcc58c5d",
   "metadata": {},
   "outputs": [
    {
     "data": {
      "image/png": "[encoded data removed]",
      "text/plain": [
       "<Figure size 800x400 with 1 Axes>"
      ]
     },
     "metadata": {},
     "output_type": "display_data"
    }
   ],
   "source": [
    "category = review_data['Score'].value_counts()\n",
    "\n",
    "plt.figure(figsize=(8,4))\n",
    "colors = ['g','b','m','r','y']\n",
    "category.plot(kind='bar', color=colors)\n",
    "plt.grid()\n",
    "plt.xlabel(\"Scores\")\n",
    "plt.ylabel(\"Number of Reviews\")\n",
    "plt.title(\"Distribution of Reviews Per Score\")\n",
    "plt.show()"
   ]
  },
  {
   "cell_type": "code",
   "execution_count": 17,
   "id": "2f749b37",
   "metadata": {},
   "outputs": [
    {
     "data": {
      "text/html": [
       "<div>\n",
       "<style scoped>\n",
       "    .dataframe tbody tr th:only-of-type {\n",
       "        vertical-align: middle;\n",
       "    }\n",
       "\n",
       "    .dataframe tbody tr th {\n",
       "        vertical-align: top;\n",
       "    }\n",
       "\n",
       "    .dataframe thead th {\n",
       "        text-align: right;\n",
       "    }\n",
       "</style>\n",
       "<table border=\"1\" class=\"dataframe\">\n",
       "  <thead>\n",
       "    <tr style=\"text-align: right;\">\n",
       "      <th></th>\n",
       "      <th>ProductId</th>\n",
       "      <th>Score</th>\n",
       "      <th>Text</th>\n",
       "      <th>UserId</th>\n",
       "      <th>Summary</th>\n",
       "      <th>Reviewtime</th>\n",
       "    </tr>\n",
       "  </thead>\n",
       "  <tbody>\n",
       "    <tr>\n",
       "      <th>0</th>\n",
       "      <td>B000F83SZQ</td>\n",
       "      <td>Positive</td>\n",
       "      <td>I enjoy vintage books and movies so I enjoyed ...</td>\n",
       "      <td>A1F6404F1VG29J</td>\n",
       "      <td>Nice vintage story</td>\n",
       "      <td>1399248000</td>\n",
       "    </tr>\n",
       "    <tr>\n",
       "      <th>1</th>\n",
       "      <td>B000F83SZQ</td>\n",
       "      <td>Positive</td>\n",
       "      <td>This book is a reissue of an old one; the auth...</td>\n",
       "      <td>AN0N05A9LIJEQ</td>\n",
       "      <td>Different...</td>\n",
       "      <td>1388966400</td>\n",
       "    </tr>\n",
       "    <tr>\n",
       "      <th>2</th>\n",
       "      <td>B000F83SZQ</td>\n",
       "      <td>Positive</td>\n",
       "      <td>This was a fairly interesting read.  It had ol...</td>\n",
       "      <td>A795DMNCJILA6</td>\n",
       "      <td>Oldie</td>\n",
       "      <td>1396569600</td>\n",
       "    </tr>\n",
       "    <tr>\n",
       "      <th>3</th>\n",
       "      <td>B000F83SZQ</td>\n",
       "      <td>Positive</td>\n",
       "      <td>I'd never read any of the Amy Brewster mysteri...</td>\n",
       "      <td>A1FV0SX13TWVXQ</td>\n",
       "      <td>I really liked it.</td>\n",
       "      <td>1392768000</td>\n",
       "    </tr>\n",
       "    <tr>\n",
       "      <th>4</th>\n",
       "      <td>B000F83SZQ</td>\n",
       "      <td>Positive</td>\n",
       "      <td>If you like period pieces - clothing, lingo, y...</td>\n",
       "      <td>A3SPTOKDG7WBLN</td>\n",
       "      <td>Period Mystery</td>\n",
       "      <td>1395187200</td>\n",
       "    </tr>\n",
       "  </tbody>\n",
       "</table>\n",
       "</div>"
      ],
      "text/plain": [
       "    ProductId     Score                                               Text  \\\n",
       "0  B000F83SZQ  Positive  I enjoy vintage books and movies so I enjoyed ...   \n",
       "1  B000F83SZQ  Positive  This book is a reissue of an old one; the auth...   \n",
       "2  B000F83SZQ  Positive  This was a fairly interesting read.  It had ol...   \n",
       "3  B000F83SZQ  Positive  I'd never read any of the Amy Brewster mysteri...   \n",
       "4  B000F83SZQ  Positive  If you like period pieces - clothing, lingo, y...   \n",
       "\n",
       "           UserId             Summary  Reviewtime  \n",
       "0  A1F6404F1VG29J  Nice vintage story  1399248000  \n",
       "1   AN0N05A9LIJEQ        Different...  1388966400  \n",
       "2   A795DMNCJILA6               Oldie  1396569600  \n",
       "3  A1FV0SX13TWVXQ  I really liked it.  1392768000  \n",
       "4  A3SPTOKDG7WBLN      Period Mystery  1395187200  "
      ]
     },
     "execution_count": 17,
     "metadata": {},
     "output_type": "execute_result"
    }
   ],
   "source": [
    "def partition(x):\n",
    "    if x < 3:\n",
    "        return 'Negative'\n",
    "    else:\n",
    "        return 'Positive'\n",
    "\n",
    "Score = review_data['Score']\n",
    "pos_neg = Score.map(partition)\n",
    "review_data['Score'] = pos_neg\n",
    "\n",
    "review_data.head()"
   ]
  },
  {
   "cell_type": "code",
   "execution_count": 18,
   "id": "ef916d79",
   "metadata": {},
   "outputs": [
    {
     "data": {
      "image/png": "[encoded data removed]",
      "text/plain": [
       "<Figure size 640x480 with 1 Axes>"
      ]
     },
     "metadata": {},
     "output_type": "display_data"
    }
   ],
   "source": [
    "category_score= review_data['Score'].value_counts()\n",
    "\n",
    "l=['positive','negative']\n",
    "# Create a pie chart\n",
    "plt.pie(category_score, labels=l,startangle=90,autopct='%1.1f%%',shadow=True)\n",
    "plt.title(\"Distribution of Reviews\")\n",
    "plt.show()"
   ]
  },
  {
   "cell_type": "markdown",
   "id": "a5deaf5e",
   "metadata": {},
   "source": [
    "### Importing train_test_split, TfidfVectorizer, Logistic Regression"
   ]
  },
  {
   "cell_type": "code",
   "execution_count": 19,
   "id": "2ccb84cd",
   "metadata": {},
   "outputs": [],
   "source": [
    "from sklearn.model_selection import train_test_split\n",
    "x = review_data['Text']\n",
    "y = review_data['Score']\n",
    "\n",
    "x_train, x_test, y_train, y_test = train_test_split(x, y, test_size=0.20, random_state=0)"
   ]
  },
  {
   "cell_type": "code",
   "execution_count": 20,
   "id": "fea64413",
   "metadata": {},
   "outputs": [
    {
     "name": "stdout",
     "output_type": "stream",
     "text": [
      "Shape of Matrix - TFIDF\n",
      "(783024, 5000)\n",
      "(195756, 5000)\n"
     ]
    }
   ],
   "source": [
    "from sklearn.feature_extraction.text import TfidfVectorizer\n",
    "\n",
    "text_vec = TfidfVectorizer(min_df=10, max_features=5000)\n",
    "text_vec.fit(x_train.values)\n",
    "\n",
    "train_text = text_vec.transform(x_train.values)\n",
    "test_text = text_vec.transform(x_test.values)\n",
    "\n",
    "print(\"Shape of Matrix - TFIDF\")\n",
    "print(train_text.shape)\n",
    "print(test_text.shape)"
   ]
  },
  {
   "cell_type": "code",
   "execution_count": 21,
   "id": "8f5d4f9a",
   "metadata": {},
   "outputs": [
    {
     "data": {
      "text/plain": [
       "LogisticRegression()"
      ]
     },
     "execution_count": 21,
     "metadata": {},
     "output_type": "execute_result"
    }
   ],
   "source": [
    "from sklearn.linear_model import LogisticRegression\n",
    "model=LogisticRegression()\n",
    "model.fit(train_text,y_train)"
   ]
  },
  {
   "cell_type": "code",
   "execution_count": 22,
   "id": "8c8dffd1",
   "metadata": {},
   "outputs": [
    {
     "data": {
      "text/plain": [
       "array(['Positive', 'Positive', 'Positive', ..., 'Positive', 'Positive',\n",
       "       'Positive'], dtype=object)"
      ]
     },
     "execution_count": 22,
     "metadata": {},
     "output_type": "execute_result"
    }
   ],
   "source": [
    "y_pred=model.predict(test_text)\n",
    "y_pred"
   ]
  },
  {
   "cell_type": "markdown",
   "id": "4d954dd8",
   "metadata": {},
   "source": [
    "### Checking accuracy score"
   ]
  },
  {
   "cell_type": "code",
   "execution_count": 23,
   "id": "01d2b4e2",
   "metadata": {},
   "outputs": [],
   "source": [
    "from sklearn.metrics import accuracy_score"
   ]
  },
  {
   "cell_type": "code",
   "execution_count": 24,
   "id": "d5b56c77",
   "metadata": {},
   "outputs": [
    {
     "data": {
      "text/plain": [
       "96.01033940211283"
      ]
     },
     "execution_count": 24,
     "metadata": {},
     "output_type": "execute_result"
    }
   ],
   "source": [
    "accuracy_score(y_test,y_pred)*100"
   ]
  },
  {
   "cell_type": "code",
   "execution_count": 25,
   "id": "9b5a1187",
   "metadata": {},
   "outputs": [],
   "source": [
    "from sklearn.metrics import confusion_matrix"
   ]
  },
  {
   "cell_type": "code",
   "execution_count": 26,
   "id": "5d829000",
   "metadata": {},
   "outputs": [
    {
     "data": {
      "text/plain": [
       "array([[  5576,   6000],\n",
       "       [  1810, 182370]], dtype=int64)"
      ]
     },
     "execution_count": 26,
     "metadata": {},
     "output_type": "execute_result"
    }
   ],
   "source": [
    "performance=confusion_matrix(y_test,y_pred)\n",
    "performance"
   ]
  },
  {
   "cell_type": "code",
   "execution_count": 27,
   "id": "207986e0",
   "metadata": {},
   "outputs": [],
   "source": [
    "from sklearn.metrics import classification_report"
   ]
  },
  {
   "cell_type": "code",
   "execution_count": 28,
   "id": "899319aa",
   "metadata": {},
   "outputs": [
    {
     "name": "stdout",
     "output_type": "stream",
     "text": [
      "              precision    recall  f1-score   support\n",
      "\n",
      "    Negative       0.75      0.48      0.59     11576\n",
      "    Positive       0.97      0.99      0.98    184180\n",
      "\n",
      "    accuracy                           0.96    195756\n",
      "   macro avg       0.86      0.74      0.78    195756\n",
      "weighted avg       0.96      0.96      0.96    195756\n",
      "\n"
     ]
    }
   ],
   "source": [
    "print(classification_report(y_test,y_pred))"
   ]
  },
  {
   "cell_type": "code",
   "execution_count": 29,
   "id": "74f69df9",
   "metadata": {},
   "outputs": [],
   "source": [
    "d = pd.DataFrame({\"Actual\":y_test,\"Predicted\":y_pred})\n",
    "t= pd.crosstab(d[\"Actual\"],d[\"Predicted\"],rownames = [\"Actual\"],colnames = [\"Predicted\"])\n"
   ]
  },
  {
   "cell_type": "code",
   "execution_count": 30,
   "id": "54dfb3be",
   "metadata": {},
   "outputs": [
    {
     "data": {
      "image/png": "[encoded data removed]",
      "text/plain": [
       "<Figure size 640x480 with 2 Axes>"
      ]
     },
     "metadata": {},
     "output_type": "display_data"
    }
   ],
   "source": [
    "sns.heatmap(t,annot = True)  # annot=True is used for reflecting the values\n",
    "plt.show()"
   ]
  },
  {
   "cell_type": "code",
   "execution_count": 31,
   "id": "aa3c9319",
   "metadata": {},
   "outputs": [
    {
     "data": {
      "text/plain": [
       "['Positive', 'Positive', 'Positive', 'Positive', 'Positive']"
      ]
     },
     "execution_count": 31,
     "metadata": {},
     "output_type": "execute_result"
    }
   ],
   "source": [
    "y_pred_list = y_pred.tolist()\n",
    "y_pred_list[:5]"
   ]
  },
  {
   "cell_type": "code",
   "execution_count": 32,
   "id": "eea95794",
   "metadata": {},
   "outputs": [
    {
     "data": {
      "text/html": [
       "<div>\n",
       "<style scoped>\n",
       "    .dataframe tbody tr th:only-of-type {\n",
       "        vertical-align: middle;\n",
       "    }\n",
       "\n",
       "    .dataframe tbody tr th {\n",
       "        vertical-align: top;\n",
       "    }\n",
       "\n",
       "    .dataframe thead th {\n",
       "        text-align: right;\n",
       "    }\n",
       "</style>\n",
       "<table border=\"1\" class=\"dataframe\">\n",
       "  <thead>\n",
       "    <tr style=\"text-align: right;\">\n",
       "      <th></th>\n",
       "      <th>Text</th>\n",
       "      <th>Review</th>\n",
       "    </tr>\n",
       "  </thead>\n",
       "  <tbody>\n",
       "    <tr>\n",
       "      <th>94975</th>\n",
       "      <td>Trophies is an excellent mystery, full of comp...</td>\n",
       "      <td>Positive</td>\n",
       "    </tr>\n",
       "    <tr>\n",
       "      <th>499241</th>\n",
       "      <td>I was surprised by the depth of emotion in thi...</td>\n",
       "      <td>Positive</td>\n",
       "    </tr>\n",
       "    <tr>\n",
       "      <th>363177</th>\n",
       "      <td>First let me say I loved this story. It keep m...</td>\n",
       "      <td>Positive</td>\n",
       "    </tr>\n",
       "    <tr>\n",
       "      <th>639354</th>\n",
       "      <td>Laurell Hamilton never disappoints  but I wish...</td>\n",
       "      <td>Positive</td>\n",
       "    </tr>\n",
       "    <tr>\n",
       "      <th>111676</th>\n",
       "      <td>Definitely different than any books I have eve...</td>\n",
       "      <td>Positive</td>\n",
       "    </tr>\n",
       "    <tr>\n",
       "      <th>611049</th>\n",
       "      <td>This one caught my eye right away and held my ...</td>\n",
       "      <td>Positive</td>\n",
       "    </tr>\n",
       "    <tr>\n",
       "      <th>810442</th>\n",
       "      <td>Disclosure:  I have known author Beth Barany a...</td>\n",
       "      <td>Positive</td>\n",
       "    </tr>\n",
       "    <tr>\n",
       "      <th>138607</th>\n",
       "      <td>I found this book action packed and interestin...</td>\n",
       "      <td>Positive</td>\n",
       "    </tr>\n",
       "    <tr>\n",
       "      <th>832850</th>\n",
       "      <td>This book is filled with excellent collection ...</td>\n",
       "      <td>Positive</td>\n",
       "    </tr>\n",
       "    <tr>\n",
       "      <th>542187</th>\n",
       "      <td>A fun, quick read about a college professor an...</td>\n",
       "      <td>Positive</td>\n",
       "    </tr>\n",
       "  </tbody>\n",
       "</table>\n",
       "</div>"
      ],
      "text/plain": [
       "                                                     Text    Review\n",
       "94975   Trophies is an excellent mystery, full of comp...  Positive\n",
       "499241  I was surprised by the depth of emotion in thi...  Positive\n",
       "363177  First let me say I loved this story. It keep m...  Positive\n",
       "639354  Laurell Hamilton never disappoints  but I wish...  Positive\n",
       "111676  Definitely different than any books I have eve...  Positive\n",
       "611049  This one caught my eye right away and held my ...  Positive\n",
       "810442  Disclosure:  I have known author Beth Barany a...  Positive\n",
       "138607  I found this book action packed and interestin...  Positive\n",
       "832850  This book is filled with excellent collection ...  Positive\n",
       "542187  A fun, quick read about a college professor an...  Positive"
      ]
     },
     "execution_count": 32,
     "metadata": {},
     "output_type": "execute_result"
    }
   ],
   "source": [
    "final_test = pd.DataFrame({'Text':x_test, 'Review':y_pred_list})\n",
    "final_test.head(10)"
   ]
  },
  {
   "cell_type": "code",
   "execution_count": 33,
   "id": "dc2d81bf",
   "metadata": {},
   "outputs": [
    {
     "data": {
      "text/plain": [
       "array(['This was the best series of books that I have ever read love the romance and the passion the characters show it was truly impressive. The drama and secrets of the book were really good and the challenges that they had to overlook.',\n",
       "       'Positive'], dtype=object)"
      ]
     },
     "execution_count": 33,
     "metadata": {},
     "output_type": "execute_result"
    }
   ],
   "source": [
    "final_test.values[50]"
   ]
  },
  {
   "cell_type": "code",
   "execution_count": 35,
   "id": "2fc0e7a3",
   "metadata": {},
   "outputs": [
    {
     "data": {
      "text/plain": [
       "array(['\"Damaged Goods\" is the second book that I\\'ve read and reviewed by this talented author. The first one is not part of this series, therefore, this is my first exposure to the main character, Hannibal Jones. He is what appears to be a really \"neat\" guy. He is a private investigator who knows how to get to the bottom of any problem that comes his way. Jones is extremely capable and efficient as he sniffs out a crime in order to bring about some kind of justice in his own unique way. In this fictional novel, Jones remains unintimidated by some heavy duty, mob connected individuals...and refuses to cower in the presence of some very descriptive crime scenes. He also appears to be a man with a conscience which further endears him to me. His main squeeze is successful lawyer, Cindy Santiago, whose presence spices up the plot with their little romance.Author Austin Camacho manages to adeptly spin a suspenseful yarn as he entices his reading audience to be drawn right into the storyline. He certainly had my attention right from the get go. I not only enjoyed the main character, Hannibal Jones, but also his supporting cast of individuals who add to the thrill of this mystery.  Yes...this is definitely a great mystery thriller, as it kept me on the edge of my seat from start to finish. It offers many twists and turns and a very unpredictable ending. Good stuff!Inspirational Author & Book Reviewer ~ Dolores Ayotte',\n",
       "       'Positive'], dtype=object)"
      ]
     },
     "execution_count": 35,
     "metadata": {},
     "output_type": "execute_result"
    }
   ],
   "source": [
    "final_test.values[25]"
   ]
  },
  {
   "cell_type": "code",
   "execution_count": null,
   "id": "8e249495",
   "metadata": {},
   "outputs": [],
   "source": []
  }
 ],
 "metadata": {
  "kernelspec": {
   "display_name": "Python 3 (ipykernel)",
   "language": "python",
   "name": "python3"
  },
  "language_info": {
   "codemirror_mode": {
    "name": "ipython",
    "version": 3
   },
   "file_extension": ".py",
   "mimetype": "text/x-python",
   "name": "python",
   "nbconvert_exporter": "python",
   "pygments_lexer": "ipython3",
   "version": "3.9.13"
  }
 },
 "nbformat": 4,
 "nbformat_minor": 5
}
